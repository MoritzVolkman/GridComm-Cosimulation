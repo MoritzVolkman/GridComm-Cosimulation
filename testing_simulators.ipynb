{
 "cells": [
  {
   "metadata": {},
   "cell_type": "code",
   "source": [
    "import pandapower\n",
    "import pandapower.networks\n",
    "import pandapower.plotting\n",
    "import pandapower.topology\n",
    "import pandapower.converter\n",
    "import pandapower.estimation"
   ],
   "id": "initial_id",
   "outputs": [],
   "execution_count": null
  },
  {
   "metadata": {},
   "cell_type": "markdown",
   "source": "## Numpy has to be version 1.26.4 or lower, because they changed the name of the INF constant, also pyproj is required (not stated in the documentation)",
   "id": "63637d4790d63745"
  },
  {
   "metadata": {},
   "cell_type": "code",
   "source": [
    "import pandapower.test\n",
    "pandapower.test.run_all_tests()"
   ],
   "id": "97cfc81c3be9f51",
   "outputs": [],
   "execution_count": null
  },
  {
   "metadata": {},
   "cell_type": "code",
   "source": [
    "import numpy as np\n",
    "import pandas as pd\n",
    "import matplotlib.pyplot as plt\n",
    "import pandapower as pp\n",
    "import os\n",
    "import pandapower.topology as top\n",
    "import pandapower.plotting as plot\n",
    "import simbench as sb"
   ],
   "id": "cc3b3a59fd381b71",
   "outputs": [],
   "execution_count": null
  },
  {
   "metadata": {},
   "cell_type": "code",
   "outputs": [],
   "execution_count": null,
   "source": [
    "import pandapower.test\n",
    "pandapower.test.run_all_tests()"
   ],
   "id": "e25b4489f6a61402"
  },
  {
   "metadata": {},
   "cell_type": "code",
   "outputs": [],
   "execution_count": null,
   "source": [
    "import pandapower.test\n",
    "pandapower.test.run_all_tests()"
   ],
   "id": "cf64a33847c3904"
  },
  {
   "metadata": {},
   "cell_type": "code",
   "source": [
    "sb_code = \"1-LV-semiurb4--0-sw\"\n",
    "net = sb.get_simbench_net(sb_code)"
   ],
   "id": "45ef97e968882b41",
   "outputs": [],
   "execution_count": null
  },
  {
   "metadata": {},
   "cell_type": "code",
   "source": "net",
   "id": "28f8d460fc89abed",
   "outputs": [],
   "execution_count": null
  },
  {
   "metadata": {},
   "cell_type": "code",
   "source": "plot.simple_plot(net)",
   "id": "c9acec14d8f863a1",
   "outputs": [],
   "execution_count": null
  },
  {
   "metadata": {},
   "cell_type": "code",
   "source": "net.loadcases",
   "id": "54eb8eaf168660a1",
   "outputs": [],
   "execution_count": null
  },
  {
   "metadata": {},
   "cell_type": "code",
   "source": [
    "loadcases = sb.get_absolute_values(net, profiles_instead_of_study_cases=True)\n",
    "\n",
    "def apply_absolute_values(net, absolute_values_dict, case_or_time_step):\n",
    "    for elm_param in absolute_values_dict.keys():\n",
    "        if absolute_values_dict[elm_param].shape[1]:\n",
    "            elm = elm_param[0]\n",
    "            param = elm_param[1]\n",
    "            net[elm].loc[:, param] = absolute_values_dict[elm_param].loc[case_or_time_step]"
   ],
   "id": "441e5eef42afa82e",
   "outputs": [],
   "execution_count": null
  },
  {
   "metadata": {},
   "cell_type": "code",
   "source": [
    "net.sgen.profile.iloc[0]\n",
    "assert not sb.profiles_are_missing(net)"
   ],
   "id": "6da5cd3f9eaf67ae",
   "outputs": [],
   "execution_count": null
  },
  {
   "metadata": {},
   "cell_type": "code",
   "source": [
    "profiles = sb.get_absolute_values(net, profiles_instead_of_study_cases=True)\n",
    "time_steps = range(96)\n",
    "net.trafo.tap_pos = 1\n",
    "results = pd.DataFrame([], index=time_steps, columns=[\"Load Sum\", \"min_vm_pu\", \"max_vm_pu\"])\n",
    "for time_step in time_steps:\n",
    "    apply_absolute_values(net, profiles, time_step)\n",
    "    pp.runpp(net)\n",
    "    results.loc[time_step, \"Load Sum\"] = net.res_load.p_mw.sum()\n",
    "    results.loc[time_step, \"min_vm_pu\"] = net.res_bus.vm_pu.min()\n",
    "    results.loc[time_step, \"max_vm_pu\"] = net.res_bus.vm_pu.max()"
   ],
   "id": "1531796822f1167b",
   "outputs": [],
   "execution_count": null
  },
  {
   "metadata": {},
   "cell_type": "code",
   "source": [
    "fig1, ax1 = plt.subplots()\n",
    "results[[\"min_vm_pu\", \"max_vm_pu\"]].plot(ax=ax1)\n",
    "ax1.set_ylabel(\"Voltage Extrema [p.u.]\")\n",
    "ax1.set_xlabel(\"Time Step (quarter hour)\")\n",
    "plt.show()"
   ],
   "id": "f5302000e68fc112",
   "outputs": [],
   "execution_count": null
  },
  {
   "metadata": {},
   "cell_type": "markdown",
   "source": "## Using the Timeseries Module of pandapower",
   "id": "d5a72f0d2859011c"
  },
  {
   "metadata": {},
   "cell_type": "code",
   "source": [
    "import tempfile\n",
    "from pandapower.timeseries import OutputWriter\n",
    "from pandapower.timeseries.run_time_series import run_timeseries\n",
    "\n",
    "sb.apply_const_controllers(net, profiles)\n",
    "output_dir = os.path.join(tempfile.gettempdir(), \"time_series_example\")\n",
    "if not os.path.exists(output_dir):\n",
    "    os.mkdir(output_dir)\n",
    "ow = OutputWriter(net, time_steps, output_path=output_dir, output_file_type=\".json\")\n",
    "ow.log_variable(\"res_load\", \"p_mw\", eval_function=np.sum, eval_name=\"Load Sum\")\n",
    "ow.log_variable(\"res_bus\", \"vm_pu\", eval_function=np.min, eval_name=\"min_vm_pu\")\n",
    "ow.log_variable(\"res_bus\", \"vm_pu\", eval_function=np.max, eval_name=\"max_vm_pu\")\n",
    "\n",
    "run_timeseries(net, time_steps)\n",
    "\n",
    "vm_pu_file = os.path.join(output_dir, \"res_bus\", \"vm_pu.json\")\n",
    "vm_pu = pd.read_json(vm_pu_file)\n",
    "load_p_file = os.path.join(output_dir, \"res_load\", \"p_mw.json\")\n",
    "load_p = pd.read_json(load_p_file)\n",
    "result = pd.concat([load_p[[\"Load Sum\"]], vm_pu[[\"min_vm_pu\", \"max_vm_pu\"]]], axis=1)\n",
    "result.sort_index(inplace=True)"
   ],
   "id": "5a8126771d3faf8b",
   "outputs": [],
   "execution_count": null
  },
  {
   "metadata": {},
   "cell_type": "code",
   "source": "results.head()",
   "id": "72d720925163dc1",
   "outputs": [],
   "execution_count": null
  },
  {
   "metadata": {},
   "cell_type": "code",
   "source": [
    "fig1, ax1 = plt.subplots()\n",
    "results[[\"min_vm_pu\", \"max_vm_pu\"]].plot(ax=ax1)\n",
    "ax1.set_ylabel(\"Voltage Extrema [p.u.]\")\n",
    "ax1.set_xlabel(\"Time Step (quarter hour)\")\n",
    "plt.show()"
   ],
   "id": "19d760eceb5368bc",
   "outputs": [],
   "execution_count": null
  },
  {
   "metadata": {},
   "cell_type": "markdown",
   "source": "## Using MOSAIK",
   "id": "b3121e347bdadfe5"
  },
  {
   "metadata": {},
   "cell_type": "code",
   "source": [
    "import nest_asyncio\n",
    "nest_asyncio.apply()"
   ],
   "id": "f76f521db4937e12",
   "outputs": [],
   "execution_count": null
  },
  {
   "metadata": {},
   "cell_type": "code",
   "source": [
    "import mosaik\n",
    "import mosaik.util\n",
    "import mosaik_pandapower\n",
    "\n",
    "SIM_CONFIG = {\n",
    "    'Grid': {\n",
    "        'python': 'mosaik_pandapower.simulator:Pandapower',\n",
    "    }\n",
    "}\n",
    "END = 600\n",
    "\n",
    "world = mosaik.World(SIM_CONFIG)\n",
    "\n",
    "\n",
    "GRID_FILE = \"1-LV-semiurb4--0-sw\"\n",
    "gridsim = world.start('Grid', step_size=900)\n",
    "grid = gridsim.Grid(gridfile=GRID_FILE).children\n",
    "\n",
    "world.run(until=END)"
   ],
   "id": "f2b9806bd88f1fc3",
   "outputs": [],
   "execution_count": null
  },
  {
   "metadata": {},
   "cell_type": "code",
   "source": "",
   "id": "cad6046fe3cf1a71",
   "outputs": [],
   "execution_count": null
  }
 ],
 "metadata": {
  "kernelspec": {
   "display_name": "Python 3",
   "language": "python",
   "name": "python3"
  },
  "language_info": {
   "codemirror_mode": {
    "name": "ipython",
    "version": 2
   },
   "file_extension": ".py",
   "mimetype": "text/x-python",
   "name": "python",
   "nbconvert_exporter": "python",
   "pygments_lexer": "ipython2",
   "version": "2.7.6"
  }
 },
 "nbformat": 4,
 "nbformat_minor": 5
}
